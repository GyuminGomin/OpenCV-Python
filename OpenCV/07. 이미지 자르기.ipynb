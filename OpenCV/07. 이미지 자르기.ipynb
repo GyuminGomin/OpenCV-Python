{
 "cells": [
  {
   "cell_type": "markdown",
   "id": "254723f9",
   "metadata": {},
   "source": [
    "# 7. 이미지 자르기\n",
    "1. 영역을 잘라서 새로운 윈도우(창)에 표시\n",
    "2. 영역을 잘라서 기존 윈도우(창)에 표시"
   ]
  },
  {
   "cell_type": "code",
   "execution_count": 2,
   "id": "ea1df079",
   "metadata": {},
   "outputs": [],
   "source": [
    "# 영역을 잘라서 새로운 윈도우에 표시\n",
    "import cv2\n",
    "img = cv2.imread('img.jpg')\n",
    "# img.shape (402, 640, 3)\n",
    "\n",
    "crop = img[:201,:320] # 세로기준 0~200 까지 가로기준 0~319 까지 자름\n",
    "\n",
    "cv2.imshow('img', img) # 원본 이미지\n",
    "cv2.imshow('crop', crop) # 잘린 이미지\n",
    "cv2.waitKey(0)\n",
    "cv2.destroyAllWindows()"
   ]
  },
  {
   "cell_type": "code",
   "execution_count": 6,
   "id": "fd4c4de8",
   "metadata": {},
   "outputs": [],
   "source": [
    "# 영역을 잘라서 기존 윈도우에 표시\n",
    "import cv2\n",
    "img = cv2.imread('img.jpg')\n",
    "# img.shape (402, 640, 3)\n",
    "\n",
    "crop = img[:201, :320]\n",
    "img[:201, 320:640] = crop\n",
    "\n",
    "cv2.imshow('img', img) # 원본 이미지\n",
    "cv2.waitKey(0)\n",
    "cv2.destroyAllWindows()"
   ]
  }
 ],
 "metadata": {
  "kernelspec": {
   "display_name": "Python 3 (ipykernel)",
   "language": "python",
   "name": "python3"
  },
  "language_info": {
   "codemirror_mode": {
    "name": "ipython",
    "version": 3
   },
   "file_extension": ".py",
   "mimetype": "text/x-python",
   "name": "python",
   "nbconvert_exporter": "python",
   "pygments_lexer": "ipython3",
   "version": "3.9.7"
  }
 },
 "nbformat": 4,
 "nbformat_minor": 5
}
