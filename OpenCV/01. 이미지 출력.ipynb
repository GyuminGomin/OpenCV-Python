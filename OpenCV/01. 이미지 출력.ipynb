{
 "cells": [
  {
   "cell_type": "markdown",
   "id": "26ca9851",
   "metadata": {},
   "source": [
    "# 환경 설정\n",
    "Anaconda Prompt 에서 다음 명령 수행\n",
    "> pip install opencv-python"
   ]
  },
  {
   "cell_type": "code",
   "execution_count": 1,
   "id": "1a9c2971",
   "metadata": {},
   "outputs": [
    {
     "data": {
      "text/plain": [
       "'4.5.5'"
      ]
     },
     "execution_count": 1,
     "metadata": {},
     "output_type": "execute_result"
    }
   ],
   "source": [
    "import cv2\n",
    "cv2. __version__"
   ]
  },
  {
   "cell_type": "markdown",
   "id": "f5afb048",
   "metadata": {},
   "source": [
    "# OpenCV (Computer Vision)\n",
    "다양한 영상 (이미지) / 동영상 처리에 사용되는 오픈소스 라이브러리"
   ]
  },
  {
   "cell_type": "markdown",
   "id": "db8600ad",
   "metadata": {},
   "source": [
    "# 1. 이미지 출력"
   ]
  },
  {
   "cell_type": "code",
   "execution_count": 1,
   "id": "5bd64633",
   "metadata": {},
   "outputs": [
    {
     "name": "stdout",
     "output_type": "stream",
     "text": [
      "100\n"
     ]
    }
   ],
   "source": [
    "import cv2\n",
    "img = cv2.imread('img.jpg') # 해당경로의 이미지 파일 읽어오는 것\n",
    "cv2.imshow('img', img) #  img라는 이름의 창에 img를 표시 1. 창의이름, 2. 이미지\n",
    "key = cv2.waitKey(0) # 지정된 시간 동안 사용자 키 입력 대기 0 : 키입력대기 ,5000 : 5초 뒤에 자동으로 다음코드로 넘어감\n",
    "print(key) # 예시로 q는 113 아스키코드를 통해 원하는 키 입력하면 종료할 수 있게 할 수 있음\n",
    "cv2.destroyAllWindows() # 모든 창 닫기"
   ]
  },
  {
   "cell_type": "markdown",
   "id": "64c21cea",
   "metadata": {},
   "source": [
    "## 읽기 옵션\n",
    "1. cv2.IMREAD_COLOR : 컬러 이미지, 투명 영역은 무시 (기본값)\n",
    "1. cv2.IMREAD_GRAYSCALE : 흑백 이미지\n",
    "1. cv2.IMREAD_UNCHANGED : 투명 영역까지 포함"
   ]
  },
  {
   "cell_type": "code",
   "execution_count": 2,
   "id": "98b88fda",
   "metadata": {},
   "outputs": [],
   "source": [
    "import cv2\n",
    "img_color = cv2.imread(\"img.jpg\", cv2.IMREAD_COLOR)\n",
    "img_gray = cv2.imread(\"img.jpg\", cv2.IMREAD_GRAYSCALE)\n",
    "img_unchanged = cv2.imread(\"img.jpg\", cv2.IMREAD_UNCHANGED)\n",
    "\n",
    "cv2.imshow('img_color', img_color)\n",
    "cv2.imshow('img_gray', img_gray)\n",
    "cv2.imshow('img_unchanged', img_unchanged)\n",
    "\n",
    "cv2.waitKey(0)\n",
    "cv2.destroyAllWindows()"
   ]
  },
  {
   "cell_type": "markdown",
   "id": "9fdfe013",
   "metadata": {},
   "source": [
    "## Shape\n",
    "이미지의 height, width, channel 정보"
   ]
  },
  {
   "cell_type": "code",
   "execution_count": 3,
   "id": "af8c9eca",
   "metadata": {
    "scrolled": true
   },
   "outputs": [
    {
     "data": {
      "text/plain": [
       "(402, 640, 3)"
      ]
     },
     "execution_count": 3,
     "metadata": {},
     "output_type": "execute_result"
    }
   ],
   "source": [
    "import cv2\n",
    "img = cv2.imread('img.jpg')\n",
    "img.shape # 세로, 가로, Channel(3 = rgb, alpha값(투명도 포함) = 4) 정보 알 수 있음"
   ]
  }
 ],
 "metadata": {
  "kernelspec": {
   "display_name": "Python 3 (ipykernel)",
   "language": "python",
   "name": "python3"
  },
  "language_info": {
   "codemirror_mode": {
    "name": "ipython",
    "version": 3
   },
   "file_extension": ".py",
   "mimetype": "text/x-python",
   "name": "python",
   "nbconvert_exporter": "python",
   "pygments_lexer": "ipython3",
   "version": "3.9.7"
  }
 },
 "nbformat": 4,
 "nbformat_minor": 5
}
