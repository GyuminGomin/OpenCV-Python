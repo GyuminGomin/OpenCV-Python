{
 "cells": [
  {
   "cell_type": "markdown",
   "id": "5f6f16a1",
   "metadata": {},
   "source": [
    "# Quiz\n",
    "\n",
    "## OpenCV를 이용해 가로로 촬영된 영상을 세로로 회전하는프로그램을 작성하시오."
   ]
  },
  {
   "cell_type": "markdown",
   "id": "86009f4c",
   "metadata": {},
   "source": [
    "### 조건\n",
    "1. 회전 : 시계 반대방향으로 90도\n",
    "1. 재생속도 (FPS) : 원본 x 4배\n",
    "1. 출력 파일명 : city_output.avi (코덱 :DIVX)\n",
    "\n",
    "- 원본 파일명 : city.mp4"
   ]
  },
  {
   "cell_type": "code",
   "execution_count": 12,
   "id": "a2bebd50",
   "metadata": {},
   "outputs": [],
   "source": [
    "import cv2\n",
    "cap = cv2.VideoCapture('city.mp4')\n",
    "\n",
    "# 코덱\n",
    "\"\"\"\n",
    "코덱(COder and DECoder)\n",
    "음성 또는 영상의 신호를 디지털 신호로 변환하는 코더와 그 반대로 변환시켜주는 디코더를 통틀어 부르는 용어이다.\n",
    "openCV 코덱 인수 정리\n",
    "- MP4S .mp4 - MP4V .mp4\n",
    "- DIV3 .avi - DIVX .avi - I420 .avi - IYVX .avi - MJPG .avi - PIM1 .avi - XVID .avi\n",
    "- dv25 .wmv - dv50 .wmv .... 더 종류 많음\n",
    "- mp4v .mov\n",
    "\"\"\"\n",
    "# 코덱 설정\n",
    "fourcc = cv2.VideoWriter_fourcc(* 'DIVX') # avi 확장자로만 저장 가능하게\n",
    "# 프레임, 크기, FPS 설정\n",
    "width = round(cap.get(cv2.CAP_PROP_FRAME_WIDTH))\n",
    "height = round(cap.get(cv2.CAP_PROP_FRAME_HEIGHT))\n",
    "fps = cap.get(cv2.CAP_PROP_FPS)\n",
    "\n",
    "out = cv2.VideoWriter('city_output.avi', fourcc, fps*4, (width, height)) # 여기서 영상속도 설정\n",
    "\n",
    "while cap.isOpened() : # 동영상 파일이 올바로 열렸는지 확인\n",
    "    ret, frame = cap.read()\n",
    "    if not ret :\n",
    "        break\n",
    "        \n",
    "    rotate_frame = cv2.rotate(frame, cv2.ROTATE_90_COUNTERCLOCKWISE)\n",
    "    out.write(rotate_frame)\n",
    "    cv2.imshow('city', frame)\n",
    "    \n",
    "    if cv2.waitKey(1) == ord('q') :\n",
    "        break\n",
    "        \n",
    "cap.release()\n",
    "out.release()\n",
    "cv2.destroyAllWindows()"
   ]
  }
 ],
 "metadata": {
  "kernelspec": {
   "display_name": "Python 3 (ipykernel)",
   "language": "python",
   "name": "python3"
  },
  "language_info": {
   "codemirror_mode": {
    "name": "ipython",
    "version": 3
   },
   "file_extension": ".py",
   "mimetype": "text/x-python",
   "name": "python",
   "nbconvert_exporter": "python",
   "pygments_lexer": "ipython3",
   "version": "3.9.7"
  }
 },
 "nbformat": 4,
 "nbformat_minor": 5
}
