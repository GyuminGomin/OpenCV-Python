{
 "cells": [
  {
   "cell_type": "markdown",
   "id": "0fb0a181",
   "metadata": {},
   "source": [
    "# 3. 도형 그리기"
   ]
  },
  {
   "cell_type": "markdown",
   "id": "098a90e4",
   "metadata": {},
   "source": [
    "## 1. 빈 스케치북 만들기"
   ]
  },
  {
   "cell_type": "code",
   "execution_count": 5,
   "id": "9d893842",
   "metadata": {},
   "outputs": [],
   "source": [
    "import cv2\n",
    "import numpy as np\n",
    "\n",
    "# 세로 480 x 가로 640, 3 Channel (RGC) 에 해당하는  스케치북 만들기\n",
    "img = np.zeros((480, 640, 3), dtype = np.uint8) # 모든 데이터를 0,0,0으로\n",
    "# img[:] = (255, 255, 255) # (b,g,r)전체 공간을 흰 색으로 채우기\n",
    "# print(img)\n",
    "cv2.imshow('img', img)\n",
    "cv2.waitKey(0)\n",
    "cv2.destroyAllWindows()"
   ]
  },
  {
   "cell_type": "markdown",
   "id": "2589eb7b",
   "metadata": {},
   "source": [
    "## 2. 일부 영역 색칠"
   ]
  },
  {
   "cell_type": "code",
   "execution_count": 6,
   "id": "9d064585",
   "metadata": {},
   "outputs": [],
   "source": [
    "import cv2\n",
    "import numpy as np\n",
    "\n",
    "img = np.zeros((480, 640, 3), dtype = np.uint8) # 모든 데이터를 0,0,0으로\n",
    "img[100:200, 200:300] = (255, 255, 255)\n",
    "# [세로 영역, 가로 영역]\n",
    "cv2.imshow('img', img)\n",
    "cv2.waitKey(0)\n",
    "cv2.destroyAllWindows()"
   ]
  },
  {
   "cell_type": "markdown",
   "id": "95b1adfe",
   "metadata": {},
   "source": [
    "## 3. 직선\n",
    "> 직선의 종류 (line type)\n",
    "\n",
    "1. cv2.LINE_4 : 상하좌우 4 방향으로 연결된 선\n",
    "1. cv2.LINE_8 : 대각선을 포함한 8 방향으로 연결된 선 (기본값)\n",
    "1. cv2.LINE_AA : 부드러운 선 (anti-aliasing)"
   ]
  },
  {
   "cell_type": "code",
   "execution_count": 9,
   "id": "d61a456b",
   "metadata": {},
   "outputs": [],
   "source": [
    "import cv2\n",
    "import numpy as np\n",
    "\n",
    "img = np.zeros((480, 640, 3), dtype = np.uint8) # 모든 데이터를 0,0,0으로\n",
    "\n",
    "COLOR = (0, 255, 255) # BGR : yellow, 색깔\n",
    "THICKNESS = 3 # 두께\n",
    "\n",
    "cv2.line(img, (50, 100), (400, 50), COLOR, THICKNESS, cv2.LINE_8) # 50,100 점에서 400,50 점까지\n",
    "# 그릴 위치, 시작 점, 끝 점, 색깔, 두께, 선 종류\n",
    "cv2.line(img, (50, 200), (400, 150), COLOR, THICKNESS, cv2.LINE_4) # 50,100 점에서 400,50 점까지\n",
    "cv2.line(img, (50, 300), (400, 250), COLOR, THICKNESS, cv2.LINE_AA) # 50,100 점에서 400,50 점까지\n",
    "\n",
    "cv2.imshow('img', img)\n",
    "cv2.waitKey(0)\n",
    "cv2.destroyAllWindows()"
   ]
  },
  {
   "cell_type": "markdown",
   "id": "0e3e360e",
   "metadata": {},
   "source": [
    "### cv2.LINE_4\n",
    "\n",
    "- 모든 선이 이어 진다. ( 상하 좌우만 그릴 수 있으므로 )"
   ]
  },
  {
   "cell_type": "code",
   "execution_count": 1,
   "id": "9b9b1b78",
   "metadata": {},
   "outputs": [
    {
     "name": "stdout",
     "output_type": "stream",
     "text": [
      "-1\n"
     ]
    }
   ],
   "source": [
    "import cv2\n",
    "\n",
    "img = cv2.imread('cv2.LINE_4.png') # 해당경로의 이미지 파일 읽어오는 것\n",
    "cv2.imshow('img', img) #  img라는 이름의 창에 img를 표시 1. 창의이름, 2. 이미지\n",
    "key = cv2.waitKey(0) # 지정된 시간 동안 사용자 키 입력 대기 0 : 키입력대기 ,5000 : 5초 뒤에 자동으로 다음코드로 넘어감\n",
    "print(key) # 예시로 q는 113 아스키코드를 통해 원하는 키 입력하면 종료할 수 있게 할 수 있음\n",
    "cv2.destroyAllWindows() # 모든 창 닫기"
   ]
  },
  {
   "cell_type": "markdown",
   "id": "d9ad68ee",
   "metadata": {},
   "source": [
    "### cv2.LINE_8\n",
    "- 모든 선이 꼭짓점으로 이어 진다. ( 꼭짓점으로 연결될 수 있으므로 )  \n",
    "cf. 그림판 열면 , LINE_8로 자동으로 변환시켜준다."
   ]
  },
  {
   "cell_type": "code",
   "execution_count": null,
   "id": "0d9828cd",
   "metadata": {},
   "outputs": [],
   "source": [
    "import cv2\n",
    "\n",
    "img = cv2.imread('cv2.LINE_8.png') # 해당경로의 이미지 파일 읽어오는 것\n",
    "cv2.imshow('img', img) #  img라는 이름의 창에 img를 표시 1. 창의이름, 2. 이미지\n",
    "key = cv2.waitKey(0) # 지정된 시간 동안 사용자 키 입력 대기 0 : 키입력대기 ,5000 : 5초 뒤에 자동으로 다음코드로 넘어감\n",
    "print(key) # 예시로 q는 113 아스키코드를 통해 원하는 키 입력하면 종료할 수 있게 할 수 있음\n",
    "cv2.destroyAllWindows() # 모든 창 닫기"
   ]
  },
  {
   "cell_type": "markdown",
   "id": "d4ea95f1",
   "metadata": {},
   "source": [
    "## 4. 원"
   ]
  },
  {
   "cell_type": "code",
   "execution_count": 5,
   "id": "6d4269db",
   "metadata": {},
   "outputs": [],
   "source": [
    "import cv2\n",
    "import numpy as np\n",
    "\n",
    "img = np.zeros((480, 640, 3), dtype = np.uint8) # 모든 데이터를 0,0,0으로\n",
    "\n",
    "COLOR = (255, 255, 0) # BGR : 옥 색깔\n",
    "RADIUS = 50 # 반지름\n",
    "THICKNESS = 10 # 두께\n",
    "\n",
    "cv2.circle(img, (200, 100), RADIUS, COLOR, THICKNESS, cv2.LINE_AA) # 속이 빈 원\n",
    "# 그릴 위치, 원의 중심점, 반지름, 색깔, 두께, 선 종류\n",
    "cv2.circle(img, (400, 100), RADIUS, COLOR, cv2.FILLED, cv2.LINE_AA) # 속이 꽉 찬 원\n",
    "\n",
    "cv2.imshow('img', img)\n",
    "cv2.waitKey(0)\n",
    "cv2.destroyAllWindows()"
   ]
  },
  {
   "cell_type": "markdown",
   "id": "a5f1ba36",
   "metadata": {},
   "source": [
    "## 5. 사각형"
   ]
  },
  {
   "cell_type": "code",
   "execution_count": 2,
   "id": "e4635f81",
   "metadata": {},
   "outputs": [],
   "source": [
    "import cv2\n",
    "import numpy as np\n",
    "\n",
    "img = np.zeros((480, 640, 3), dtype = np.uint8) # 모든 데이터를 0,0,0으로\n",
    "\n",
    "COLOR = (0, 255, 0) # BGR : 초록 색깔\n",
    "THICKNESS = 3 # 두께\n",
    "\n",
    "cv2.rectangle(img, (100, 100), (200, 200), COLOR, THICKNESS) # 속이 빈 사각형\n",
    "# 그릴 위치, 왼쪽 위 좌표, 오른쪽 아래 좌표, 색깔, 두께\n",
    "cv2.rectangle(img, (300, 100), (400, 300), COLOR, cv2.FILLED) # 속이 꽉 찬 사각형\n",
    "\n",
    "\n",
    "cv2.imshow('img', img)\n",
    "cv2.waitKey(0)\n",
    "cv2.destroyAllWindows()"
   ]
  },
  {
   "cell_type": "markdown",
   "id": "78128eb8",
   "metadata": {},
   "source": [
    "## 6. 다각형"
   ]
  },
  {
   "cell_type": "code",
   "execution_count": null,
   "id": "3a03deb4",
   "metadata": {},
   "outputs": [],
   "source": [
    "import cv2\n",
    "import numpy as np\n",
    "\n",
    "img = np.zeros((480, 640, 3), dtype = np.uint8) # 모든 데이터를 0,0,0으로\n",
    "\n",
    "COLOR = (0, 0, 255) # BGR : 빨간 색깔\n",
    "THICKNESS = 3 # 두께\n",
    "\n",
    "pts1 = np.array([[100, 100],\n",
    "                 [200, 100],\n",
    "                 [100, 200]]) # 삼각형\n",
    "\n",
    "pts2 = np.array([[300, 100],\n",
    "                 [300, 200],\n",
    "                 [400, 100]]) # 삼각형\n",
    "\n",
    "pts3 = np.array([[100, 200],\n",
    "                 [100, 300],\n",
    "                 [200, 300]]) # 삼각형\n",
    "# cv2.polylines(img, [pts1], True, COLOR, THICKNESS, cv2.LINE_AA) # 닫힌 도형\n",
    "# cv2.polylines(img, [pts2], False, COLOR, THICKNESS, cv2.LINE_AA) # 열린 도형\n",
    "# cv2.polylines(img, [pts3], True, COLOR, THICKNESS, cv2.LINE_AA) # 닫힌 도형\n",
    "\n",
    "cv2.polylines(img, [pts1, pts3], True, COLOR, THICKNESS, cv2.LINE_AA) # 속이 빈 다각형\n",
    "# 그릴 위치, 그릴 좌표들, 닫힘 여부, 색깔, 두께, 선 종류\n",
    "\n",
    "pts4 = np.array([[[100, 300],\n",
    "                 [200, 300],\n",
    "                 [100, 400]],\n",
    "                 [[200, 300],\n",
    "                  [300, 300],\n",
    "                  [300, 400]]]) # 삼각형\n",
    "\n",
    "cv2.fillPoly(img, pts4, COLOR, cv2.LINE_AA) # 속이 꽉 찬 다각형\n",
    "# 그릴 위치, 그릴 좌표들, 색깔, 선 종류\n",
    "\n",
    "cv2.imshow('img', img)\n",
    "cv2.waitKey(0)\n",
    "cv2.destroyAllWindows()"
   ]
  }
 ],
 "metadata": {
  "kernelspec": {
   "display_name": "Python 3 (ipykernel)",
   "language": "python",
   "name": "python3"
  },
  "language_info": {
   "codemirror_mode": {
    "name": "ipython",
    "version": 3
   },
   "file_extension": ".py",
   "mimetype": "text/x-python",
   "name": "python",
   "nbconvert_exporter": "python",
   "pygments_lexer": "ipython3",
   "version": "3.9.7"
  }
 },
 "nbformat": 4,
 "nbformat_minor": 5
}
