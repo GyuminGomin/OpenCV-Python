{
 "cells": [
  {
   "cell_type": "markdown",
   "id": "44746f94",
   "metadata": {},
   "source": [
    "# 14. 이미지 변환 (팽창)\n",
    "## 이미지를 확장하여 작은 구멍을 채움\n",
    "- 흰색 영역의 외곽 픽셀 주변에 흰색을 추가"
   ]
  },
  {
   "cell_type": "code",
   "execution_count": 3,
   "id": "00487c66",
   "metadata": {},
   "outputs": [],
   "source": [
    "import cv2\n",
    "import numpy as np\n",
    "\n",
    "kernel = np.ones((3, 3), dtype = np.uint8)\n",
    "# kernel\n",
    "\n",
    "\n",
    "img = cv2.imread('dilate.png', cv2.IMREAD_GRAYSCALE)\n",
    "dilate1 = cv2.dilate(img, kernel, iterations=1) # 반복 횟수 iterations\n",
    "dilate2 = cv2.dilate(img, kernel, iterations=2) \n",
    "dilate3 = cv2.dilate(img, kernel, iterations=3)\n",
    "\n",
    "cv2.imshow('gray', img)\n",
    "cv2.imshow('dilate1', dilate1)\n",
    "cv2.imshow('dilate2', dilate2)\n",
    "cv2.imshow('dilate3', dilate3)\n",
    "\n",
    "cv2.waitKey(0)\n",
    "cv2.destroyAllWindows()"
   ]
  },
  {
   "cell_type": "markdown",
   "id": "af5ef881",
   "metadata": {},
   "source": [
    "픽셀외각 부분에 글자를 채워나가는 형식 - 팽창 (Dilation)  \n",
    "외곽 주변을 채워주면서 구멍이 뚤려있는 픽셀을 알아서 채워준다."
   ]
  }
 ],
 "metadata": {
  "kernelspec": {
   "display_name": "Python 3 (ipykernel)",
   "language": "python",
   "name": "python3"
  },
  "language_info": {
   "codemirror_mode": {
    "name": "ipython",
    "version": 3
   },
   "file_extension": ".py",
   "mimetype": "text/x-python",
   "name": "python",
   "nbconvert_exporter": "python",
   "pygments_lexer": "ipython3",
   "version": "3.9.7"
  }
 },
 "nbformat": 4,
 "nbformat_minor": 5
}
